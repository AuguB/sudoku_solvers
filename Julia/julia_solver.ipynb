{
 "cells": [
  {
   "cell_type": "code",
   "execution_count": 204,
   "id": "a6dc3b87-dc7d-480a-83e6-7ee101b7f967",
   "metadata": {
    "execution": {
     "iopub.execute_input": "2022-12-04T14:53:23.174000+01:00",
     "iopub.status.busy": "2022-12-04T14:53:23.174000+01:00",
     "iopub.status.idle": "2022-12-04T14:53:23.185000+01:00",
     "shell.execute_reply": "2022-12-04T14:53:23.184000+01:00"
    },
    "tags": []
   },
   "outputs": [],
   "source": [
    "# Import stuff\n",
    "using CSV\n",
    "using DataFrames\n",
    "using BenchmarkTools\n",
    "# import Base.plit"
   ]
  },
  {
   "cell_type": "code",
   "execution_count": 205,
   "id": "eaa97143-b85c-4df7-b263-bf3fa471c994",
   "metadata": {
    "execution": {
     "iopub.execute_input": "2022-12-04T14:53:25.218000+01:00",
     "iopub.status.busy": "2022-12-04T14:53:25.217000+01:00",
     "iopub.status.idle": "2022-12-04T14:53:25.224000+01:00",
     "shell.execute_reply": "2022-12-04T14:53:25.224000+01:00"
    },
    "tags": []
   },
   "outputs": [],
   "source": [
    "csv = CSV.File(\"/home/stijn/Projects/sudoku_solvers/1000_sudokus.csv\"; types=String);\n",
    "all_puzzles = DataFrame(csv);\n",
    "random_sudoku_index = 43\n",
    "\n",
    "random_sudoku = all_puzzles[random_sudoku_index,\"quizzes\"];\n",
    "random_sudoku_solution = all_puzzles[random_sudoku_index,\"solutions\"];"
   ]
  },
  {
   "cell_type": "code",
   "execution_count": 206,
   "id": "c6533d98-9139-4ef0-8015-f55ac1aa7627",
   "metadata": {
    "execution": {
     "iopub.execute_input": "2022-12-04T14:53:25.768000+01:00",
     "iopub.status.busy": "2022-12-04T14:53:25.768000+01:00",
     "iopub.status.idle": "2022-12-04T14:53:25.838000+01:00",
     "shell.execute_reply": "2022-12-04T14:53:25.838000+01:00"
    },
    "tags": []
   },
   "outputs": [
    {
     "data": {
      "text/plain": [
       "9×9 Matrix{Int64}:\n",
       " 1  9  8  6  5  7  2  3  4\n",
       " 2  5  4  9  8  3  1  6  7\n",
       " 3  6  7  1  4  2  9  8  5\n",
       " 8  4  2  3  9  5  6  7  1\n",
       " 9  1  6  7  2  4  3  5  8\n",
       " 7  3  5  8  1  6  4  9  2\n",
       " 5  8  1  2  3  9  7  4  6\n",
       " 4  7  9  5  6  1  8  2  3\n",
       " 6  2  3  4  7  8  5  1  9"
      ]
     },
     "execution_count": 206,
     "metadata": {},
     "output_type": "execute_result"
    }
   ],
   "source": [
    "function make_array_from_string(sudoku)\n",
    "    sudoku_entries_list = map(x -> parse(Int, x),split(sudoku, \"\"));\n",
    "    sudoku_row_list = reshape(sudoku_entries_list, (9,9))\n",
    "end\n",
    "\n",
    "sudoku = make_array_from_string(random_sudoku)\n",
    "solution = make_array_from_string(random_sudoku_solution)"
   ]
  },
  {
   "cell_type": "code",
   "execution_count": 208,
   "id": "4da36af8-1a1a-4215-be54-c63ab4ce4b99",
   "metadata": {
    "execution": {
     "iopub.execute_input": "2022-12-04T14:54:04.915000+01:00",
     "iopub.status.busy": "2022-12-04T14:54:04.914000+01:00",
     "iopub.status.idle": "2022-12-04T14:54:04.921000+01:00",
     "shell.execute_reply": "2022-12-04T14:54:04.921000+01:00"
    },
    "tags": []
   },
   "outputs": [
    {
     "data": {
      "text/plain": [
       "solve_sudoku (generic function with 1 method)"
      ]
     },
     "execution_count": 208,
     "metadata": {},
     "output_type": "execute_result"
    }
   ],
   "source": [
    "function backtrack_sudoku(sudoku, n)\n",
    "    if n == 81\n",
    "        # display(sudoku)\n",
    "        return\n",
    "    else \n",
    "        row = n÷9;\n",
    "        column = n%9;\n",
    "        \n",
    "        block_first_row = 3*(row÷3)+1\n",
    "        block_first_column = 3*(column÷3)+1\n",
    "        \n",
    "        row = row+1\n",
    "        column = column+1\n",
    "        \n",
    "        if sudoku[row, column] == 0\n",
    "            unavailable_row_values = unique!(sudoku[row,:]);\n",
    "            unavailable_column_values = unique!(sudoku[:,column]);\n",
    "            unavailable_block_values = unique!(vec(sudoku[block_first_row:block_first_row+2, block_first_column:block_first_column+2]))\n",
    "            unavailable_values = union(Set(unavailable_row_values), union(Set(unavailable_column_values), Set(unavailable_block_values)))\n",
    "            \n",
    "            available_values = setdiff(Set(1:9),unavailable_values)\n",
    "            for candidate in available_values\n",
    "                sudoku[row, column] = candidate\n",
    "                backtrack_sudoku(sudoku, n+1)\n",
    "                sudoku[row, column] = 0\n",
    "            end\n",
    "        else\n",
    "            backtrack_sudoku(sudoku, n+1)\n",
    "        end\n",
    "    end\n",
    "end\n",
    "\n",
    "function solve_sudoku(sudoku)\n",
    "    backtrack_sudoku(sudoku, 0);\n",
    "end"
   ]
  },
  {
   "cell_type": "code",
   "execution_count": 211,
   "id": "25fb4788-04f5-4cfd-8a05-04d12079de01",
   "metadata": {
    "execution": {
     "iopub.execute_input": "2022-12-04T14:57:21.017000+01:00",
     "iopub.status.busy": "2022-12-04T14:57:21.016000+01:00",
     "iopub.status.idle": "2022-12-04T14:57:35.205000+01:00",
     "shell.execute_reply": "2022-12-04T14:57:35.205000+01:00"
    },
    "tags": []
   },
   "outputs": [
    {
     "data": {
      "text/plain": [
       "BenchmarkTools.Trial: 10000 samples with 1 evaluation.\n",
       " Range \u001b[90m(\u001b[39m\u001b[36m\u001b[1mmin\u001b[22m\u001b[39m … \u001b[35mmax\u001b[39m\u001b[90m):  \u001b[39m\u001b[36m\u001b[1m363.834 μs\u001b[22m\u001b[39m … \u001b[35m  5.630 ms\u001b[39m  \u001b[90m┊\u001b[39m GC \u001b[90m(\u001b[39mmin … max\u001b[90m): \u001b[39m 0.00% … 92.26%\n",
       " Time  \u001b[90m(\u001b[39m\u001b[34m\u001b[1mmedian\u001b[22m\u001b[39m\u001b[90m):     \u001b[39m\u001b[34m\u001b[1m373.419 μs               \u001b[22m\u001b[39m\u001b[90m┊\u001b[39m GC \u001b[90m(\u001b[39mmedian\u001b[90m):    \u001b[39m 0.00%\n",
       " Time  \u001b[90m(\u001b[39m\u001b[32m\u001b[1mmean\u001b[22m\u001b[39m ± \u001b[32mσ\u001b[39m\u001b[90m):   \u001b[39m\u001b[32m\u001b[1m436.578 μs\u001b[22m\u001b[39m ± \u001b[32m525.971 μs\u001b[39m  \u001b[90m┊\u001b[39m GC \u001b[90m(\u001b[39mmean ± σ\u001b[90m):  \u001b[39m12.64% ±  9.65%\n",
       "\n",
       "  \u001b[34m█\u001b[39m\u001b[32m▂\u001b[39m\u001b[39m \u001b[39m \u001b[39m \u001b[39m \u001b[39m \u001b[39m \u001b[39m \u001b[39m \u001b[39m \u001b[39m \u001b[39m \u001b[39m \u001b[39m \u001b[39m \u001b[39m \u001b[39m \u001b[39m \u001b[39m \u001b[39m \u001b[39m \u001b[39m \u001b[39m \u001b[39m \u001b[39m \u001b[39m \u001b[39m \u001b[39m \u001b[39m \u001b[39m \u001b[39m \u001b[39m \u001b[39m \u001b[39m \u001b[39m \u001b[39m \u001b[39m \u001b[39m \u001b[39m \u001b[39m \u001b[39m \u001b[39m \u001b[39m \u001b[39m \u001b[39m \u001b[39m \u001b[39m \u001b[39m \u001b[39m \u001b[39m \u001b[39m \u001b[39m \u001b[39m \u001b[39m \u001b[39m \u001b[39m \u001b[39m \u001b[39m \u001b[39m \u001b[39m \u001b[39m \u001b[39m▁\n",
       "  \u001b[34m█\u001b[39m\u001b[32m█\u001b[39m\u001b[39m▇\u001b[39m▄\u001b[39m▇\u001b[39m▃\u001b[39m▁\u001b[39m▁\u001b[39m▁\u001b[39m▁\u001b[39m▁\u001b[39m▁\u001b[39m▁\u001b[39m▁\u001b[39m▁\u001b[39m▁\u001b[39m▁\u001b[39m▁\u001b[39m▁\u001b[39m▁\u001b[39m▁\u001b[39m▁\u001b[39m▁\u001b[39m▁\u001b[39m▁\u001b[39m▁\u001b[39m▁\u001b[39m▁\u001b[39m▁\u001b[39m▁\u001b[39m▁\u001b[39m▁\u001b[39m▁\u001b[39m▁\u001b[39m▁\u001b[39m▁\u001b[39m▁\u001b[39m▁\u001b[39m▁\u001b[39m▁\u001b[39m▁\u001b[39m▁\u001b[39m▁\u001b[39m▁\u001b[39m▁\u001b[39m▁\u001b[39m▁\u001b[39m▁\u001b[39m▁\u001b[39m▁\u001b[39m▁\u001b[39m▁\u001b[39m▁\u001b[39m▁\u001b[39m▁\u001b[39m▁\u001b[39m▁\u001b[39m▁\u001b[39m▁\u001b[39m▃\u001b[39m▆\u001b[39m \u001b[39m█\n",
       "  364 μs\u001b[90m        \u001b[39m\u001b[90mHistogram: \u001b[39m\u001b[90m\u001b[1mlog(\u001b[22m\u001b[39m\u001b[90mfrequency\u001b[39m\u001b[90m\u001b[1m)\u001b[22m\u001b[39m\u001b[90m by time\u001b[39m       5.21 ms \u001b[0m\u001b[1m<\u001b[22m\n",
       "\n",
       " Memory estimate\u001b[90m: \u001b[39m\u001b[33m504.19 KiB\u001b[39m, allocs estimate\u001b[90m: \u001b[39m\u001b[33m5130\u001b[39m."
      ]
     },
     "execution_count": 211,
     "metadata": {},
     "output_type": "execute_result"
    }
   ],
   "source": [
    "@benchmark solve_sudoku(sudoku)\n",
    "# display(solution)"
   ]
  }
 ],
 "metadata": {
  "kernelspec": {
   "display_name": "Julia 1.7.2",
   "language": "julia",
   "name": "julia-1.7"
  },
  "language_info": {
   "file_extension": ".jl",
   "mimetype": "application/julia",
   "name": "julia",
   "version": "1.7.2"
  }
 },
 "nbformat": 4,
 "nbformat_minor": 5
}
