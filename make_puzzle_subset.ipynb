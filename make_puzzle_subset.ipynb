{
 "cells": [
  {
   "cell_type": "code",
   "execution_count": 1,
   "id": "252ec19a-21b6-4c10-a689-cdd9975f9811",
   "metadata": {
    "execution": {
     "iopub.execute_input": "2022-12-04T10:31:03.983628Z",
     "iopub.status.busy": "2022-12-04T10:31:03.981913Z",
     "iopub.status.idle": "2022-12-04T10:31:04.866039Z",
     "shell.execute_reply": "2022-12-04T10:31:04.865164Z",
     "shell.execute_reply.started": "2022-12-04T10:31:03.983368Z"
    },
    "tags": []
   },
   "outputs": [],
   "source": [
    "import pandas as pd"
   ]
  },
  {
   "cell_type": "code",
   "execution_count": 2,
   "id": "aed79c20-6918-4629-b796-26a32a9d2617",
   "metadata": {
    "execution": {
     "iopub.execute_input": "2022-12-04T10:32:29.178204Z",
     "iopub.status.busy": "2022-12-04T10:32:29.176788Z",
     "iopub.status.idle": "2022-12-04T10:32:31.680979Z",
     "shell.execute_reply": "2022-12-04T10:32:31.680197Z",
     "shell.execute_reply.started": "2022-12-04T10:32:29.178144Z"
    }
   },
   "outputs": [],
   "source": [
    "number_of_puzzles_to_keep = 1000\n",
    "\n",
    "all_puzzles = pd.read_csv('sudoku.csv')"
   ]
  },
  {
   "cell_type": "code",
   "execution_count": 4,
   "id": "4ce4d1c1-7216-4d7f-ae83-99193d67dc20",
   "metadata": {
    "execution": {
     "iopub.execute_input": "2022-12-04T10:33:15.221209Z",
     "iopub.status.busy": "2022-12-04T10:33:15.220719Z",
     "iopub.status.idle": "2022-12-04T10:33:15.225503Z",
     "shell.execute_reply": "2022-12-04T10:33:15.224791Z",
     "shell.execute_reply.started": "2022-12-04T10:33:15.221164Z"
    },
    "tags": []
   },
   "outputs": [],
   "source": [
    "subset = all_puzzles[:number_of_puzzles_to_keep]"
   ]
  },
  {
   "cell_type": "code",
   "execution_count": 9,
   "id": "fc25cb99-7bd1-4480-826a-b0fb37142ed0",
   "metadata": {
    "execution": {
     "iopub.execute_input": "2022-12-04T10:34:07.303504Z",
     "iopub.status.busy": "2022-12-04T10:34:07.303178Z",
     "iopub.status.idle": "2022-12-04T10:34:07.320007Z",
     "shell.execute_reply": "2022-12-04T10:34:07.319360Z",
     "shell.execute_reply.started": "2022-12-04T10:34:07.303469Z"
    },
    "tags": []
   },
   "outputs": [],
   "source": [
    "subset.to_csv( f'{number_of_puzzles_to_keep}_sudokus.csv')"
   ]
  }
 ],
 "metadata": {
  "kernelspec": {
   "display_name": "Python 3 (ipykernel)",
   "language": "python",
   "name": "python3"
  },
  "language_info": {
   "codemirror_mode": {
    "name": "ipython",
    "version": 3
   },
   "file_extension": ".py",
   "mimetype": "text/x-python",
   "name": "python",
   "nbconvert_exporter": "python",
   "pygments_lexer": "ipython3",
   "version": "3.9.7"
  }
 },
 "nbformat": 4,
 "nbformat_minor": 5
}
