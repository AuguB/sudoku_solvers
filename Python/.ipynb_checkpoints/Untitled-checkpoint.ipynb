{
 "cells": [
  {
   "cell_type": "code",
   "execution_count": 1,
   "id": "97e1a2e7-d943-46ae-b4ba-6a7abdad119c",
   "metadata": {
    "execution": {
     "iopub.execute_input": "2022-12-04T12:15:54.170634Z",
     "iopub.status.busy": "2022-12-04T12:15:54.170141Z",
     "iopub.status.idle": "2022-12-04T12:15:54.620549Z",
     "shell.execute_reply": "2022-12-04T12:15:54.619472Z",
     "shell.execute_reply.started": "2022-12-04T12:15:54.170530Z"
    },
    "tags": []
   },
   "outputs": [],
   "source": [
    "# Import stuff\n",
    "import numpy as np\n",
    "import pandas as pd"
   ]
  },
  {
   "cell_type": "code",
   "execution_count": 3,
   "id": "1285d68c-d021-4ffc-a87b-88d826d4c842",
   "metadata": {
    "execution": {
     "iopub.execute_input": "2022-12-04T12:16:05.464373Z",
     "iopub.status.busy": "2022-12-04T12:16:05.463965Z",
     "iopub.status.idle": "2022-12-04T12:16:05.481077Z",
     "shell.execute_reply": "2022-12-04T12:16:05.480224Z",
     "shell.execute_reply.started": "2022-12-04T12:16:05.464329Z"
    },
    "tags": []
   },
   "outputs": [],
   "source": [
    "# Get random Sudoku \n",
    "sudoku_data = pd.read_csv('/home/stijn/Projects/sudoku_solvers/1000_sudokus.csv')\n",
    "all_puzzles = sudoku_data['quizzes']\n",
    "random_sudoku_index = np.random.randint(all_puzzles.shape[0])\n",
    "random_sudoku = all_puzzles[random_sudoku_index]\n",
    "random_sudoku_solution = sudoku_data['solutions'][random_sudoku_index]"
   ]
  },
  {
   "cell_type": "code",
   "execution_count": 4,
   "id": "50eab65c-2f99-46a3-9852-13b8a9cb4b86",
   "metadata": {
    "execution": {
     "iopub.execute_input": "2022-12-04T12:16:06.551668Z",
     "iopub.status.busy": "2022-12-04T12:16:06.549845Z",
     "iopub.status.idle": "2022-12-04T12:16:06.565327Z",
     "shell.execute_reply": "2022-12-04T12:16:06.563206Z",
     "shell.execute_reply.started": "2022-12-04T12:16:06.551582Z"
    },
    "tags": []
   },
   "outputs": [],
   "source": [
    "# Create datastructure for sudoku\n",
    "def make_array_from_string(sudoku):\n",
    "    sudoku_entries_list = list(sudoku)\n",
    "    sudoku_2d_list = [sudoku_entries_list[i*9:(i+1)*9] for i in range(9)]\n",
    "    return np.array(sudoku_2d_list).astype(int)\n",
    "\n",
    "sudoku = make_array_from_string(random_sudoku)\n",
    "solution = make_array_from_string(random_sudoku_solution)"
   ]
  },
  {
   "cell_type": "code",
   "execution_count": 5,
   "id": "4e0e2abf-ebc6-494f-85be-0a1d2dba26ff",
   "metadata": {
    "execution": {
     "iopub.execute_input": "2022-12-04T12:16:07.134490Z",
     "iopub.status.busy": "2022-12-04T12:16:07.134138Z",
     "iopub.status.idle": "2022-12-04T12:16:07.141950Z",
     "shell.execute_reply": "2022-12-04T12:16:07.140943Z",
     "shell.execute_reply.started": "2022-12-04T12:16:07.134453Z"
    },
    "tags": []
   },
   "outputs": [],
   "source": [
    "# Pretty print function\n",
    "def print_sudoku(sudoku):\n",
    "    print(19*\"-\")\n",
    "    for row in range(9):\n",
    "        print('|', end='')\n",
    "        for column in range(9):\n",
    "            print(sudoku[row, column], end='')\n",
    "            if (column+1)%3 == 0: \n",
    "                print('|', end='')\n",
    "            else:\n",
    "                print(' ', end='')\n",
    "        print()\n",
    "        if (row) % 3 == 2:\n",
    "            print(19*\"-\")"
   ]
  },
  {
   "cell_type": "code",
   "execution_count": 23,
   "id": "481abbdd-72a4-4043-a8e9-416e546a88ef",
   "metadata": {
    "execution": {
     "iopub.execute_input": "2022-12-04T12:17:28.236499Z",
     "iopub.status.busy": "2022-12-04T12:17:28.236151Z",
     "iopub.status.idle": "2022-12-04T12:17:28.254611Z",
     "shell.execute_reply": "2022-12-04T12:17:28.253924Z",
     "shell.execute_reply.started": "2022-12-04T12:17:28.236460Z"
    },
    "tags": []
   },
   "outputs": [],
   "source": [
    "# Backtracking\n",
    "test_values = np.arange(1, 10)\n",
    "# print(test_values)\n",
    "\n",
    "def backtrack_solve_sudoku(sudoku, n):\n",
    "    \n",
    "    # This is solved\n",
    "    if n == 9*9:\n",
    "        # print(np.all(sudoku == solution))\n",
    "        # print_sudoku(sudoku)\n",
    "        return\n",
    "    \n",
    "    # Get row, column, and block\n",
    "    row, column = n//9, n%9\n",
    "    block_firstrow = 3*(row//3)\n",
    "    block_firstcolumn = 3*(column//3)\n",
    "    \n",
    "    # If the entry is available\n",
    "    if sudoku[row, column] == 0:\n",
    "        \n",
    "        # Get list of available values\n",
    "        unavailable_row_values = np.unique(sudoku[row])\n",
    "        unavailable_column_values = np.unique(sudoku[:,column])\n",
    "        unavailable_block_values = np.unique(sudoku[block_firstrow:block_firstrow+3, block_firstcolumn:block_firstcolumn+3])\n",
    "        unavailable_values = np.union1d(unavailable_row_values, np.union1d(unavailable_column_values, unavailable_block_values))\n",
    "        \n",
    "        available_values = np.setdiff1d(test_values, unavailable_values)\n",
    "        # print(available_values)\n",
    "        \n",
    "        for candidate in available_values:\n",
    "            sudoku[row, column] = candidate\n",
    "            backtrack_solve_sudoku(sudoku, n+1)\n",
    "            sudoku[row, column] = 0\n",
    "        \n",
    "    else:\n",
    "        # Skip this entry\n",
    "        backtrack_solve_sudoku(sudoku, n+1)\n",
    "\n",
    "    \n",
    "    \n",
    "\n",
    "def solve_sudoku(sudoku):\n",
    "    backtrack_solve_sudoku(sudoku,0)"
   ]
  },
  {
   "cell_type": "code",
   "execution_count": 24,
   "id": "92e27976-52a3-465c-bbc5-cb579a390847",
   "metadata": {
    "execution": {
     "iopub.execute_input": "2022-12-04T12:17:28.911151Z",
     "iopub.status.busy": "2022-12-04T12:17:28.909263Z",
     "iopub.status.idle": "2022-12-04T12:17:36.671384Z",
     "shell.execute_reply": "2022-12-04T12:17:36.669687Z",
     "shell.execute_reply.started": "2022-12-04T12:17:28.911056Z"
    },
    "tags": []
   },
   "outputs": [
    {
     "data": {
      "text/plain": [
       "7.750543230999938"
      ]
     },
     "execution_count": 24,
     "metadata": {},
     "output_type": "execute_result"
    }
   ],
   "source": [
    "import timeit\n",
    "timeit.timeit(lambda: solve_sudoku(sudoku), number= 1000)\n"
   ]
  },
  {
   "cell_type": "code",
   "execution_count": null,
   "id": "eb8e301b-7517-43ec-928b-aa5407fb77ab",
   "metadata": {},
   "outputs": [],
   "source": [
    "7.750543230999938\n",
    "7.909965728000316\n"
   ]
  }
 ],
 "metadata": {
  "kernelspec": {
   "display_name": "Python 3 (ipykernel)",
   "language": "python",
   "name": "python3"
  },
  "language_info": {
   "codemirror_mode": {
    "name": "ipython",
    "version": 3
   },
   "file_extension": ".py",
   "mimetype": "text/x-python",
   "name": "python",
   "nbconvert_exporter": "python",
   "pygments_lexer": "ipython3",
   "version": "3.9.7"
  }
 },
 "nbformat": 4,
 "nbformat_minor": 5
}
