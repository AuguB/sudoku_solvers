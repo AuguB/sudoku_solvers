{
 "cells": [
  {
   "cell_type": "code",
   "execution_count": 13,
   "id": "97e1a2e7-d943-46ae-b4ba-6a7abdad119c",
   "metadata": {
    "execution": {
     "iopub.execute_input": "2022-12-04T13:50:27.820603Z",
     "iopub.status.busy": "2022-12-04T13:50:27.820122Z",
     "iopub.status.idle": "2022-12-04T13:50:27.825468Z",
     "shell.execute_reply": "2022-12-04T13:50:27.824302Z",
     "shell.execute_reply.started": "2022-12-04T13:50:27.820556Z"
    },
    "tags": []
   },
   "outputs": [],
   "source": [
    "# Import stuff\n",
    "import numpy as np\n",
    "import pandas as pd"
   ]
  },
  {
   "cell_type": "code",
   "execution_count": 20,
   "id": "1285d68c-d021-4ffc-a87b-88d826d4c842",
   "metadata": {
    "execution": {
     "iopub.execute_input": "2022-12-04T13:51:18.444194Z",
     "iopub.status.busy": "2022-12-04T13:51:18.442833Z",
     "iopub.status.idle": "2022-12-04T13:51:18.462567Z",
     "shell.execute_reply": "2022-12-04T13:51:18.461643Z",
     "shell.execute_reply.started": "2022-12-04T13:51:18.444126Z"
    },
    "tags": []
   },
   "outputs": [],
   "source": [
    "# Get random Sudoku \n",
    "sudoku_data = pd.read_csv('/home/stijn/Projects/sudoku_solvers/1000_sudokus.csv')\n",
    "all_puzzles = sudoku_data['quizzes']\n",
    "# random_sudoku_index = np.random.randint(all_puzzles.shape[0])\n",
    "random_sudoku_index = 42\n",
    "random_sudoku = all_puzzles[random_sudoku_index]\n",
    "random_sudoku_solution = sudoku_data['solutions'][random_sudoku_index]\n"
   ]
  },
  {
   "cell_type": "code",
   "execution_count": 19,
   "id": "50eab65c-2f99-46a3-9852-13b8a9cb4b86",
   "metadata": {
    "execution": {
     "iopub.execute_input": "2022-12-04T13:51:12.746132Z",
     "iopub.status.busy": "2022-12-04T13:51:12.745676Z",
     "iopub.status.idle": "2022-12-04T13:51:12.755048Z",
     "shell.execute_reply": "2022-12-04T13:51:12.753579Z",
     "shell.execute_reply.started": "2022-12-04T13:51:12.746086Z"
    },
    "tags": []
   },
   "outputs": [
    {
     "name": "stdout",
     "output_type": "stream",
     "text": [
      "[[1 2 3 8 9 7 5 4 6]\n",
      " [9 5 6 4 1 3 8 7 2]\n",
      " [8 4 7 2 6 5 1 9 3]\n",
      " [6 9 1 3 7 8 2 5 4]\n",
      " [5 8 4 9 2 1 3 6 7]\n",
      " [7 3 2 5 4 6 9 1 8]\n",
      " [2 1 9 6 3 4 7 8 5]\n",
      " [3 6 8 7 5 9 4 2 1]\n",
      " [4 7 5 1 8 2 6 3 9]]\n"
     ]
    }
   ],
   "source": [
    "# Create datastructure for sudoku\n",
    "def make_array_from_string(sudoku):\n",
    "    return np.array(list(sudoku), dtype=int).reshape((9,9))\n",
    "\n",
    "sudoku = make_array_from_string(random_sudoku)\n",
    "solution = make_array_from_string(random_sudoku_solution)\n",
    "print(solution)"
   ]
  },
  {
   "cell_type": "code",
   "execution_count": null,
   "id": "0229bb21-4cc3-4ac8-872d-6b901ae417bc",
   "metadata": {},
   "outputs": [],
   "source": []
  },
  {
   "cell_type": "code",
   "execution_count": 10,
   "id": "4e0e2abf-ebc6-494f-85be-0a1d2dba26ff",
   "metadata": {
    "execution": {
     "iopub.execute_input": "2022-12-04T13:23:55.443835Z",
     "iopub.status.busy": "2022-12-04T13:23:55.443413Z",
     "iopub.status.idle": "2022-12-04T13:23:55.451373Z",
     "shell.execute_reply": "2022-12-04T13:23:55.450557Z",
     "shell.execute_reply.started": "2022-12-04T13:23:55.443801Z"
    },
    "tags": []
   },
   "outputs": [],
   "source": [
    "# Pretty print function\n",
    "def print_sudoku(sudoku):\n",
    "    print(19*\"-\")\n",
    "    for row in range(9):\n",
    "        print('|', end='')\n",
    "        for column in range(9):\n",
    "            print(sudoku[row, column], end='')\n",
    "            if (column+1)%3 == 0: \n",
    "                print('|', end='')\n",
    "            else:\n",
    "                print(' ', end='')\n",
    "        print()\n",
    "        if (row) % 3 == 2:\n",
    "            print(19*\"-\")"
   ]
  },
  {
   "cell_type": "code",
   "execution_count": 11,
   "id": "481abbdd-72a4-4043-a8e9-416e546a88ef",
   "metadata": {
    "execution": {
     "iopub.execute_input": "2022-12-04T13:23:55.869585Z",
     "iopub.status.busy": "2022-12-04T13:23:55.868634Z",
     "iopub.status.idle": "2022-12-04T13:23:55.900478Z",
     "shell.execute_reply": "2022-12-04T13:23:55.898546Z",
     "shell.execute_reply.started": "2022-12-04T13:23:55.869476Z"
    },
    "tags": []
   },
   "outputs": [],
   "source": [
    "test_values = np.arange(1, 10)\n",
    "def backtrack_solve_sudoku(sudoku, n):\n",
    "    # This is solved\n",
    "    if n == 9*9:\n",
    "        # print(np.all(sudoku == solution))\n",
    "        # print_sudoku(sudoku)\n",
    "        return\n",
    "    \n",
    "    # Get row, column, and block\n",
    "    row, column = n//9, n%9\n",
    "    block_firstrow = 3*(row//3)\n",
    "    block_firstcolumn = 3*(column//3)\n",
    "    \n",
    "    # If the entry is available\n",
    "    if sudoku[row, column] == 0:\n",
    "        \n",
    "        # Get list of available values\n",
    "        unavailable_row_values = np.unique(sudoku[row])\n",
    "        unavailable_column_values = np.unique(sudoku[:,column])\n",
    "        unavailable_block_values = np.unique(sudoku[block_firstrow:block_firstrow+3, block_firstcolumn:block_firstcolumn+3])\n",
    "        unavailable_values = np.union1d(unavailable_row_values, np.union1d(unavailable_column_values, unavailable_block_values))\n",
    "        available_values = np.setdiff1d(test_values, unavailable_values)\n",
    "        \n",
    "        for candidate in available_values:\n",
    "            sudoku[row, column] = candidate\n",
    "            backtrack_solve_sudoku(sudoku, n+1)\n",
    "            sudoku[row, column] = 0\n",
    "        \n",
    "    else:\n",
    "        # Skip this entry\n",
    "        backtrack_solve_sudoku(sudoku, n+1)\n",
    "    \n",
    "\n",
    "def solve_sudoku(sudoku):\n",
    "    backtrack_solve_sudoku(sudoku,0)"
   ]
  },
  {
   "cell_type": "code",
   "execution_count": 21,
   "id": "92e27976-52a3-465c-bbc5-cb579a390847",
   "metadata": {
    "execution": {
     "iopub.execute_input": "2022-12-04T13:56:34.061089Z",
     "iopub.status.busy": "2022-12-04T13:56:34.060788Z",
     "iopub.status.idle": "2022-12-04T13:56:45.093250Z",
     "shell.execute_reply": "2022-12-04T13:56:45.092619Z",
     "shell.execute_reply.started": "2022-12-04T13:56:34.061049Z"
    },
    "tags": []
   },
   "outputs": [],
   "source": [
    "import timeit\n",
    "number_of_repeats = 1000\n",
    "total_time = timeit.timeit(lambda: solve_sudoku(sudoku), number= 1000)\n",
    "single_time = total_time/number_of_repeats"
   ]
  },
  {
   "cell_type": "code",
   "execution_count": 22,
   "id": "eb8e301b-7517-43ec-928b-aa5407fb77ab",
   "metadata": {
    "execution": {
     "iopub.execute_input": "2022-12-04T13:58:51.390461Z",
     "iopub.status.busy": "2022-12-04T13:58:51.390070Z",
     "iopub.status.idle": "2022-12-04T13:58:51.396708Z",
     "shell.execute_reply": "2022-12-04T13:58:51.395510Z",
     "shell.execute_reply.started": "2022-12-04T13:58:51.390424Z"
    }
   },
   "outputs": [
    {
     "name": "stdout",
     "output_type": "stream",
     "text": [
      "0.011027520075998836\n"
     ]
    }
   ],
   "source": [
    "print(single_time)"
   ]
  },
  {
   "cell_type": "code",
   "execution_count": null,
   "id": "46881fb1-dede-487b-abfc-cacf9aa12bc6",
   "metadata": {},
   "outputs": [],
   "source": []
  }
 ],
 "metadata": {
  "kernelspec": {
   "display_name": "Python 3 (ipykernel)",
   "language": "python",
   "name": "python3"
  },
  "language_info": {
   "codemirror_mode": {
    "name": "ipython",
    "version": 3
   },
   "file_extension": ".py",
   "mimetype": "text/x-python",
   "name": "python",
   "nbconvert_exporter": "python",
   "pygments_lexer": "ipython3",
   "version": "3.9.7"
  }
 },
 "nbformat": 4,
 "nbformat_minor": 5
}
