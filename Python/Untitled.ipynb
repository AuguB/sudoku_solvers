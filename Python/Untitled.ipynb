{
 "cells": [
  {
   "cell_type": "code",
   "execution_count": 5,
   "id": "97e1a2e7-d943-46ae-b4ba-6a7abdad119c",
   "metadata": {
    "execution": {
     "iopub.execute_input": "2022-12-04T10:17:48.498951Z",
     "iopub.status.busy": "2022-12-04T10:17:48.498040Z",
     "iopub.status.idle": "2022-12-04T10:17:48.510167Z",
     "shell.execute_reply": "2022-12-04T10:17:48.508451Z",
     "shell.execute_reply.started": "2022-12-04T10:17:48.498874Z"
    },
    "tags": []
   },
   "outputs": [],
   "source": [
    "# Import stuff\n",
    "\n"
   ]
  },
  {
   "cell_type": "code",
   "execution_count": 6,
   "id": "1285d68c-d021-4ffc-a87b-88d826d4c842",
   "metadata": {
    "execution": {
     "iopub.execute_input": "2022-12-04T10:17:48.627752Z",
     "iopub.status.busy": "2022-12-04T10:17:48.627446Z",
     "iopub.status.idle": "2022-12-04T10:17:48.630945Z",
     "shell.execute_reply": "2022-12-04T10:17:48.630232Z",
     "shell.execute_reply.started": "2022-12-04T10:17:48.627725Z"
    },
    "tags": []
   },
   "outputs": [],
   "source": [
    "# Get random Sudoku online"
   ]
  },
  {
   "cell_type": "code",
   "execution_count": 7,
   "id": "50eab65c-2f99-46a3-9852-13b8a9cb4b86",
   "metadata": {
    "execution": {
     "iopub.execute_input": "2022-12-04T10:17:48.865858Z",
     "iopub.status.busy": "2022-12-04T10:17:48.864033Z",
     "iopub.status.idle": "2022-12-04T10:17:48.873230Z",
     "shell.execute_reply": "2022-12-04T10:17:48.871545Z",
     "shell.execute_reply.started": "2022-12-04T10:17:48.865765Z"
    },
    "tags": []
   },
   "outputs": [],
   "source": [
    "# Load into datastructure"
   ]
  },
  {
   "cell_type": "code",
   "execution_count": 8,
   "id": "481abbdd-72a4-4043-a8e9-416e546a88ef",
   "metadata": {
    "execution": {
     "iopub.execute_input": "2022-12-04T10:17:49.242721Z",
     "iopub.status.busy": "2022-12-04T10:17:49.241755Z",
     "iopub.status.idle": "2022-12-04T10:17:49.254019Z",
     "shell.execute_reply": "2022-12-04T10:17:49.251506Z",
     "shell.execute_reply.started": "2022-12-04T10:17:49.242608Z"
    }
   },
   "outputs": [],
   "source": [
    "# Backtracking"
   ]
  },
  {
   "cell_type": "code",
   "execution_count": null,
   "id": "92e27976-52a3-465c-bbc5-cb579a390847",
   "metadata": {},
   "outputs": [],
   "source": []
  }
 ],
 "metadata": {
  "kernelspec": {
   "display_name": "Python 3 (ipykernel)",
   "language": "python",
   "name": "python3"
  },
  "language_info": {
   "codemirror_mode": {
    "name": "ipython",
    "version": 3
   },
   "file_extension": ".py",
   "mimetype": "text/x-python",
   "name": "python",
   "nbconvert_exporter": "python",
   "pygments_lexer": "ipython3",
   "version": "3.9.7"
  }
 },
 "nbformat": 4,
 "nbformat_minor": 5
}
